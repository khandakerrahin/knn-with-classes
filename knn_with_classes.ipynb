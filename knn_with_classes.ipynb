{
  "nbformat": 4,
  "nbformat_minor": 0,
  "metadata": {
    "colab": {
      "name": "knn-with-classes.ipynb",
      "provenance": [],
      "collapsed_sections": [],
      "include_colab_link": true
    },
    "kernelspec": {
      "name": "python3",
      "display_name": "Python 3"
    },
    "language_info": {
      "name": "python"
    }
  },
  "cells": [
    {
      "cell_type": "markdown",
      "metadata": {
        "id": "view-in-github",
        "colab_type": "text"
      },
      "source": [
        "<a href=\"https://colab.research.google.com/github/khandakerrahin/knn-with-classes/blob/main/knn_with_classes.ipynb\" target=\"_parent\"><img src=\"https://colab.research.google.com/assets/colab-badge.svg\" alt=\"Open In Colab\"/></a>"
      ]
    },
    {
      "cell_type": "code",
      "source": [
        "# !pip install numpy\n",
        "# pip install numpy"
      ],
      "metadata": {
        "id": "k6LuS1oyTjPR"
      },
      "execution_count": null,
      "outputs": []
    },
    {
      "cell_type": "code",
      "execution_count": null,
      "metadata": {
        "id": "xkyRbueuUgZD"
      },
      "outputs": [],
      "source": [
        "import numpy as np # linear algebra, matrix-stuff\n",
        "import pandas as pd # data science \n",
        "import seaborn as sns # plotting"
      ]
    },
    {
      "cell_type": "code",
      "source": [
        "iris = sns.load_dataset(\"iris\")\n",
        "iris.to_csv(\"iris.csv\")\n",
        "\n",
        "# pd.read_csv reads a csv file\n",
        "df = pd.read_csv(\"iris.csv\")\n",
        "print(df.head)"
      ],
      "metadata": {
        "id": "ZZCrAaSEUvvd"
      },
      "execution_count": null,
      "outputs": []
    },
    {
      "cell_type": "code",
      "source": [
        "df\n",
        "df.iloc[:, 1:5].to_numpy()"
      ],
      "metadata": {
        "id": "oH0cQ_ONU25V"
      },
      "execution_count": null,
      "outputs": []
    },
    {
      "cell_type": "code",
      "source": [
        "\n",
        "# select rows and columns by index\n",
        "# select all rows and all columns except the first and last one\n",
        "X = df.iloc[:, 1:-1].to_numpy()\n",
        "# select all rows and just the last column\n",
        "Y = df.iloc[:, -1].to_numpy()"
      ],
      "metadata": {
        "id": "jcH3i7-aUyM8"
      },
      "execution_count": null,
      "outputs": []
    },
    {
      "cell_type": "code",
      "source": [
        "# side note: \"Tuple unpacking\"\n",
        "# instead of\n",
        "x = 3\n",
        "y = 4\n",
        "# we can do\n",
        "x, y = 3, 4\n",
        "# and it's the same as\n",
        "x, y = (3, 4)\n",
        "# and also\n",
        "(x, y) = (3, 4)\n",
        "# it works for any sequence and not just tuples\n",
        "x, y = [1, 2]\n",
        "x, y = ([1, 2], 3)  # read it as ([1, 2], 3)\n",
        "# x = [1, 2]\n",
        "# y = 3\n",
        "\n",
        "# we can also do this for a function\n",
        "def mult(a, b):\n",
        "    return a * b\n",
        "\n",
        "\n",
        "print(mult(*[10, 3]))\n",
        "params = [10, 3]\n",
        "print(mult(*params))\n",
        "# mult(10, 3)\n",
        "\n",
        "# we can also do dict (named) unpacking\n",
        "params = {'a': 10, 'b': 3}\n",
        "print(mult(**params))\n",
        "# mult(a=10, b=3)"
      ],
      "metadata": {
        "id": "aiincG96Wnhe"
      },
      "execution_count": null,
      "outputs": []
    },
    {
      "cell_type": "code",
      "source": [
        "indexes = np.arange(0, X.shape[0]) # 150\n",
        "np.random.shuffle(indexes)\n",
        "\n",
        "# 70% for training and 30% for testing\n",
        "# break_point = int(0.7*len(indexes))\n",
        "# train_indexes = indexes[:break_point] # 0 to break_point, without break_point\n",
        "# test_indexes = indexes[break_point:] # break_point to the end\n",
        "\n",
        "# X_train = X[train_indexes]\n",
        "# X_test = X[test_indexes]\n",
        "# Y_train = Y[train_indexes]\n",
        "# Y_test = Y[test_indexes]\n",
        "\n",
        "X_train, Y_train = X[indexes[: int(0.7 * len(indexes))]], Y[indexes[: int(0.7 * len(indexes))]]\n",
        "X_test, Y_test = X[indexes[int(0.7 * len(indexes)) :]], Y[indexes[int(0.7 * len(indexes)) :]]\n",
        "\n",
        "print(X_train.shape, Y_train.shape)\n",
        "print(X_test.shape, Y_test.shape)"
      ],
      "metadata": {
        "colab": {
          "base_uri": "https://localhost:8080/"
        },
        "id": "If_C9jxAU2AN",
        "outputId": "4c464658-922b-4ddc-b786-2c49c290f353"
      },
      "execution_count": null,
      "outputs": [
        {
          "output_type": "stream",
          "name": "stdout",
          "text": [
            "(105, 4) (105,)\n",
            "(45, 4) (45,)\n"
          ]
        }
      ]
    },
    {
      "cell_type": "code",
      "source": [
        "class Element:\n",
        "    def __init__(\n",
        "        self, sepal_length, sepal_width, petal_length, petal_width, id=None, species=None\n",
        "    ):\n",
        "        self.sepal_length = sepal_length\n",
        "        self.sepal_width = sepal_width\n",
        "        self.petal_length = petal_length\n",
        "        self.petal_width = petal_width\n",
        "        # optional attributes\n",
        "        self.id = id\n",
        "        self.species = species\n",
        "\n",
        "    def __repr__(self):\n",
        "        species = self.species\n",
        "        if species is None:\n",
        "            species = \"Not known\"\n",
        "\n",
        "        id_ = self.id\n",
        "        if id_ is None:\n",
        "            id_ = \"No id\"\n",
        "\n",
        "        return (\n",
        "            f\"Element {id_} (SL={self.sepal_length}, \"\n",
        "            f\"SW={self.sepal_width}, PL={self.petal_length}, \"\n",
        "            f\"PW={self.petal_width}, species={self.species})\"\n",
        "        )"
      ],
      "metadata": {
        "id": "7vbq7Ta9U5Vs"
      },
      "execution_count": null,
      "outputs": []
    },
    {
      "cell_type": "code",
      "source": [
        "# first way to do it\n",
        "X_train_objs = []\n",
        "# X_train = matrix of shape[105, 4]\n",
        "# len(X_train) 105\n",
        "# X_train.shape[0]\n",
        "\n",
        "for i in range(len(X_train)):\n",
        "    x = X_train[i]\n",
        "    y = Y_train[i]\n",
        "    # x[0] is the sepal lenght\n",
        "    element = Element(\n",
        "        sepal_length=x[0], sepal_width=x[1], petal_length=x[2], petal_width=x[3], species=y, id=i\n",
        "    )\n",
        "    X_train_objs.append(element)\n",
        "print(X_train_objs[:5], len(X_train_objs))"
      ],
      "metadata": {
        "id": "3Z55uUF3U8iG",
        "colab": {
          "base_uri": "https://localhost:8080/"
        },
        "outputId": "0e630b20-9497-43ff-beab-9aa2d9069608"
      },
      "execution_count": null,
      "outputs": [
        {
          "output_type": "stream",
          "name": "stdout",
          "text": [
            "[Element 0 (SL=5.8, SW=4.0, PL=1.2, PW=0.2, species=setosa), Element 1 (SL=6.1, SW=3.0, PL=4.6, PW=1.4, species=versicolor), Element 2 (SL=5.2, SW=3.5, PL=1.5, PW=0.2, species=setosa), Element 3 (SL=5.5, SW=2.3, PL=4.0, PW=1.3, species=versicolor), Element 4 (SL=6.8, SW=3.2, PL=5.9, PW=2.3, species=virginica)] 105\n"
          ]
        }
      ]
    },
    {
      "cell_type": "code",
      "source": [
        "# doing it with enumerate and zip\n",
        "# enumerate \"enumerates\" a sequence of elements, returning at each step\n",
        "# both the index and the element itself in the (index, element) format\n",
        "# e.g. (0, seq[0]), (1, seq[1]), (2, seq[2]) ....\n",
        "\n",
        "# for index, value in enumerate(sequence):\n",
        "#     pass\n",
        "\n",
        "# it's the same as doing:\n",
        "# for i in range(len(seq)):\n",
        "#     value = seq[i]\n",
        "#     print(i, value)\n",
        "\n",
        "# zip merges together 2 or more sequences and iterates them all at the same time\n",
        "# always stop based on the smallest sequence\n",
        "# for value1, value2 in zip(seq1, seq2):\n",
        "#     pass\n",
        "\n",
        "# it's them same as doing\n",
        "# for i in range(min(len(seq1), len(seq2))):\n",
        "#     value1 = seq1[i]\n",
        "#     value2 = seq2[i]\n",
        "\n",
        "X_train_objs = []\n",
        "for i, (x, y) in enumerate(zip(X_train, Y_train)):\n",
        "    element = Element(\n",
        "        sepal_length=x[0], sepal_width=x[1], petal_length=x[2], petal_width=x[3], species=y, id=i\n",
        "    )\n",
        "    X_train_objs.append(element)\n",
        "\n",
        "print(X_train_objs[:5], len(X_train_objs))"
      ],
      "metadata": {
        "colab": {
          "base_uri": "https://localhost:8080/"
        },
        "id": "DtDPDw2IU-9b",
        "outputId": "61f30339-279a-4fb9-9e69-fe7a90afe8f1"
      },
      "execution_count": null,
      "outputs": [
        {
          "output_type": "stream",
          "name": "stdout",
          "text": [
            "[Element 0 (SL=5.8, SW=4.0, PL=1.2, PW=0.2, species=setosa), Element 1 (SL=6.1, SW=3.0, PL=4.6, PW=1.4, species=versicolor), Element 2 (SL=5.2, SW=3.5, PL=1.5, PW=0.2, species=setosa), Element 3 (SL=5.5, SW=2.3, PL=4.0, PW=1.3, species=versicolor), Element 4 (SL=6.8, SW=3.2, PL=5.9, PW=2.3, species=virginica)] 105\n"
          ]
        }
      ]
    },
    {
      "cell_type": "code",
      "source": [
        "# collect the names of the columns\n",
        "attr_names = list(df.columns[1:-1])\n",
        "X_train_objs = []\n",
        "for i, (x, y) in enumerate(zip(X_train, Y_train)):\n",
        "\n",
        "    # dict comprehension\n",
        "    # params = {}\n",
        "    # for name, value in zip(attr_names, x):\n",
        "    #     params[name] = value\n",
        "    params = {name: value for name, value in zip(attr_names, x)}\n",
        "    # params = {'sepal_length': 0.5, ...}\n",
        "    element = Element(\n",
        "        **params, species=y, id=i\n",
        "    )\n",
        "    X_train_objs.append(element)\n",
        "\n",
        "print(X_train_objs[:5], len(X_train_objs))"
      ],
      "metadata": {
        "colab": {
          "base_uri": "https://localhost:8080/"
        },
        "id": "8n0rB0RuVLmf",
        "outputId": "505d2e8c-39bd-44b5-a2f7-057253b48b83"
      },
      "execution_count": null,
      "outputs": [
        {
          "output_type": "stream",
          "name": "stdout",
          "text": [
            "[Element 0 (SL=5.8, SW=4.0, PL=1.2, PW=0.2, species=setosa), Element 1 (SL=6.1, SW=3.0, PL=4.6, PW=1.4, species=versicolor), Element 2 (SL=5.2, SW=3.5, PL=1.5, PW=0.2, species=setosa), Element 3 (SL=5.5, SW=2.3, PL=4.0, PW=1.3, species=versicolor), Element 4 (SL=6.8, SW=3.2, PL=5.9, PW=2.3, species=virginica)] 105\n"
          ]
        }
      ]
    },
    {
      "cell_type": "code",
      "source": [
        "X_test_objs = []\n",
        "for i, x in enumerate(X_test):\n",
        "    element = Element(\n",
        "        sepal_length=x[0], sepal_width=x[1], petal_length=x[2], petal_width=x[3], id=i\n",
        "    )\n",
        "    X_test_objs.append(element)\n",
        "\n",
        "print(X_test_objs[:5], len(X_test_objs))"
      ],
      "metadata": {
        "id": "gzDN-mBAVAzM",
        "colab": {
          "base_uri": "https://localhost:8080/"
        },
        "outputId": "4facbe1c-2ffe-403e-81ce-2944c3fb2228"
      },
      "execution_count": null,
      "outputs": [
        {
          "output_type": "stream",
          "name": "stdout",
          "text": [
            "[Element 0 (SL=6.7, SW=3.3, PL=5.7, PW=2.1, species=None), Element 1 (SL=6.5, SW=3.0, PL=5.8, PW=2.2, species=None), Element 2 (SL=6.9, SW=3.2, PL=5.7, PW=2.3, species=None), Element 3 (SL=5.0, SW=2.3, PL=3.3, PW=1.0, species=None), Element 4 (SL=6.3, SW=2.8, PL=5.1, PW=1.5, species=None)] 45\n"
          ]
        }
      ]
    },
    {
      "cell_type": "code",
      "source": [
        "import math\n",
        "\n",
        "class Element:\n",
        "    def __init__(\n",
        "        self, sepal_length, sepal_width, petal_length, petal_width, id=None, species=None\n",
        "    ) -> None:\n",
        "        self.sepal_length = sepal_length\n",
        "        self.sepal_width = sepal_width\n",
        "        self.petal_length = petal_length\n",
        "        self.petal_width = petal_width\n",
        "        # optional attributes\n",
        "        self.id = id\n",
        "        self.species = species\n",
        "\n",
        "    def __repr__(self):\n",
        "        species = self.species\n",
        "        if species is None:\n",
        "            species = \"Not known\"\n",
        "\n",
        "        id_ = self.id\n",
        "        if id_ is None:\n",
        "            id_ = \"No id\"\n",
        "\n",
        "        return (\n",
        "            f\"Element {id_} (SL={self.sepal_length}, \"\n",
        "            f\"SW={self.sepal_width}, PL={self.petal_length}, \"\n",
        "            f\"PW={self.petal_width}, species={self.species})\"\n",
        "        )\n",
        "    \n",
        "    def distance(self, other):\n",
        "        # euclidean distance\n",
        "        dist_sl = (self.sepal_length - other.sepal_length) ** 2\n",
        "        dist_sw = (self.sepal_width - other.sepal_width) ** 2\n",
        "        dist_pl = (self.petal_length - other.petal_length) ** 2\n",
        "        dist_pw = (self.petal_width - other.petal_width) ** 2\n",
        "        # sum(sequence)\n",
        "        # sequence[0] + sequence[1] + sequence[2] ... \n",
        "        return math.sqrt(sum([dist_sl, dist_sw, dist_pl, dist_pw]))\n",
        "\n",
        "# collect the names of the columns\n",
        "attr_names = list(df.columns[1:-1])\n",
        "\n",
        "X_train_objs = []\n",
        "for i, (x, y) in enumerate(zip(X_train, Y_train)):\n",
        "    params = {name: value for name, value in zip(attr_names, x)}\n",
        "    element = Element(\n",
        "        **params, species=y, id=i\n",
        "    )\n",
        "    X_train_objs.append(element)\n",
        "\n",
        "print(X_train_objs[:5], len(X_train_objs))\n",
        "\n",
        "X_test_objs = []\n",
        "for i, (x, y) in enumerate(zip(X_test, Y_test)):\n",
        "    element = Element(\n",
        "        sepal_length=x[0], sepal_width=x[1], petal_length=x[2], petal_width=x[3], id=i\n",
        "    )\n",
        "    X_test_objs.append(element)\n",
        "\n",
        "print(X_test_objs[:5], len(X_test_objs))"
      ],
      "metadata": {
        "id": "ha4fTrZNYXxb",
        "colab": {
          "base_uri": "https://localhost:8080/"
        },
        "outputId": "98e00166-8c27-40f7-80c5-0a38c3758c73"
      },
      "execution_count": null,
      "outputs": [
        {
          "output_type": "stream",
          "name": "stdout",
          "text": [
            "[Element 0 (SL=5.8, SW=4.0, PL=1.2, PW=0.2, species=setosa), Element 1 (SL=6.1, SW=3.0, PL=4.6, PW=1.4, species=versicolor), Element 2 (SL=5.2, SW=3.5, PL=1.5, PW=0.2, species=setosa), Element 3 (SL=5.5, SW=2.3, PL=4.0, PW=1.3, species=versicolor), Element 4 (SL=6.8, SW=3.2, PL=5.9, PW=2.3, species=virginica)] 105\n",
            "[Element 0 (SL=6.7, SW=3.3, PL=5.7, PW=2.1, species=None), Element 1 (SL=6.5, SW=3.0, PL=5.8, PW=2.2, species=None), Element 2 (SL=6.9, SW=3.2, PL=5.7, PW=2.3, species=None), Element 3 (SL=5.0, SW=2.3, PL=3.3, PW=1.0, species=None), Element 4 (SL=6.3, SW=2.8, PL=5.1, PW=1.5, species=None)] 45\n"
          ]
        }
      ]
    },
    {
      "cell_type": "code",
      "source": [
        "print(X_train_objs[0].distance(X_train_objs[0]))\n",
        "print(X_train_objs[0].distance(X_train_objs[1]))\n",
        "print(X_train_objs[0].distance(X_test_objs[0]))"
      ],
      "metadata": {
        "colab": {
          "base_uri": "https://localhost:8080/"
        },
        "id": "cNjWjA7gZLBL",
        "outputId": "3c446cc5-a93e-4eef-c3b7-85f01a51a2f4"
      },
      "execution_count": null,
      "outputs": [
        {
          "output_type": "stream",
          "name": "stdout",
          "text": [
            "0.0\n",
            "3.7536648758246915\n",
            "5.015974481593781\n"
          ]
        }
      ]
    },
    {
      "cell_type": "code",
      "source": [
        "import statistics\n",
        "\n",
        "# let's go back and normalize the features\n",
        "sepal_lenghts = []\n",
        "sepal_widths = []\n",
        "petal_lenghts = []\n",
        "petal_widths = []\n",
        "for x in X_train_objs:\n",
        "    # x = X_train_objs[i]\n",
        "    sepal_lenghts.append(x.sepal_length)\n",
        "    sepal_widths.append(x.sepal_width)\n",
        "    petal_lenghts.append(x.petal_length)\n",
        "    petal_widths.append(x.petal_width)\n",
        "\n",
        "SL_mean, SL_std = statistics.mean(sepal_lenghts), statistics.stdev(sepal_lenghts)\n",
        "SW_mean, SW_std = statistics.mean(sepal_widths), statistics.stdev(sepal_widths)\n",
        "PL_mean, PL_std = statistics.mean(petal_lenghts), statistics.stdev(petal_lenghts)\n",
        "PW_mean, PW_std = statistics.mean(petal_widths), statistics.stdev(petal_widths)\n",
        "\n",
        "print(SL_mean, SL_std)\n",
        "print(SW_mean, SW_std)\n",
        "print(PL_mean, PL_std)\n",
        "print(PW_mean, PW_std)"
      ],
      "metadata": {
        "colab": {
          "base_uri": "https://localhost:8080/"
        },
        "id": "hrbHFgoQZYI6",
        "outputId": "66fff57a-5009-4e02-81f3-9f68c590c538"
      },
      "execution_count": null,
      "outputs": [
        {
          "output_type": "stream",
          "name": "stdout",
          "text": [
            "5.828571428571428 0.8420115892810006\n",
            "3.085714285714286 0.417508307478051\n",
            "3.6714285714285713 1.8034536464642097\n",
            "1.1666666666666667 0.7735615268984335\n"
          ]
        }
      ]
    },
    {
      "cell_type": "code",
      "source": [
        "for x in X_train_objs:\n",
        "    # (x - mean) / std\n",
        "    x.sepal_length = (x.sepal_length - SL_mean) / SL_std\n",
        "    x.sepal_width = (x.sepal_width - SW_mean) / SW_std\n",
        "    x.petal_length = (x.petal_length - PL_mean) / PL_std\n",
        "    x.petal_width = (x.petal_width - PW_mean) / PW_std\n",
        "\n",
        "for x in X_test_objs:\n",
        "    x.sepal_length = (x.sepal_length - SL_mean) / SL_std\n",
        "    x.sepal_width = (x.sepal_width - SW_mean) / SW_std\n",
        "    x.petal_length = (x.petal_length - PL_mean) / PL_std\n",
        "    x.petal_width = (x.petal_width - PW_mean) / PW_std"
      ],
      "metadata": {
        "id": "6eXWE4DAm-wh"
      },
      "execution_count": null,
      "outputs": []
    },
    {
      "cell_type": "code",
      "source": [
        "print(X_train_objs[0].distance(X_train_objs[0]))\n",
        "print(X_train_objs[0].distance(X_train_objs[1]))\n",
        "print(X_train_objs[0].distance(X_test_objs[0]))"
      ],
      "metadata": {
        "colab": {
          "base_uri": "https://localhost:8080/"
        },
        "id": "F7FoCIfJnUKV",
        "outputId": "3dd122f8-cd58-410a-d31c-adc51ec7357b"
      },
      "execution_count": null,
      "outputs": [
        {
          "output_type": "stream",
          "name": "stdout",
          "text": [
            "0.0\n",
            "6.180952693684729\n",
            "5.452852963892606\n"
          ]
        }
      ]
    },
    {
      "cell_type": "code",
      "source": [
        "def compute_knn(k, x_test, X_train):\n",
        "    distances = []\n",
        "    for x in X_train:\n",
        "        distances.append((x_test.distance(x), x.species))\n",
        "    # distances = [(0.6, 'setosa'), (1.5, 'versicolor') ...]\n",
        "\n",
        "    # with lambda:\n",
        "    # test = lambda t: t[0]\n",
        " \n",
        "    # with function \n",
        "    # def test(t):\n",
        "    #    return t[0]\n",
        "    return sorted(distances, key=lambda t: t[0])[:k]"
      ],
      "metadata": {
        "id": "_FgUSTSdnXqn"
      },
      "execution_count": null,
      "outputs": []
    },
    {
      "cell_type": "code",
      "source": [
        "print(compute_knn(3, X_test_objs[0], X_train_objs))"
      ],
      "metadata": {
        "colab": {
          "base_uri": "https://localhost:8080/"
        },
        "id": "7hmTM8LcoHlD",
        "outputId": "d43c2a98-1e94-4da0-828a-fe4790da3187"
      },
      "execution_count": null,
      "outputs": [
        {
          "output_type": "stream",
          "name": "stdout",
          "text": [
            "[(0.6815360607856585, 'virginica'), (0.796862177424332, 'virginica'), (0.8795704491186667, 'virginica')]\n"
          ]
        }
      ]
    },
    {
      "cell_type": "code",
      "source": [
        "class KNN:\n",
        "    def __init__(self, X):\n",
        "        self.X = X\n",
        "    \n",
        "    def compute_knn(self, x_test, k):\n",
        "        distances = []\n",
        "        for x in self.X:\n",
        "            distances.append((x_test.distance(x), x.species))\n",
        "        return sorted(distances, key=lambda t: t[0])[:k]\n",
        "\n",
        "knn = KNN(X_train_objs)\n",
        "# knn2 = KNN(X_train_objs[:10])"
      ],
      "metadata": {
        "id": "-nhJPTvQoc9O"
      },
      "execution_count": null,
      "outputs": []
    },
    {
      "cell_type": "code",
      "source": [
        "# preds = []\n",
        "# for x in X_test_objs:\n",
        "#     pred = knn.compute_knn(x, 3)\n",
        "#     preds.append(pred)\n",
        "\n",
        "# list comprehension\n",
        "# [what_i_want_to_append FOR_LOOP IF_CLAUSE]\n",
        "preds = [knn.compute_knn(x, 3) for x in X_test_objs]\n",
        "print(preds[0])\n",
        "print(preds[1])\n",
        "print(preds[10])"
      ],
      "metadata": {
        "colab": {
          "base_uri": "https://localhost:8080/"
        },
        "id": "o-LhSiMCotsP",
        "outputId": "415b5d70-f823-402b-c181-8289da2d8ae2"
      },
      "execution_count": null,
      "outputs": [
        {
          "output_type": "stream",
          "name": "stdout",
          "text": [
            "[(0.6815360607856585, 'virginica'), (0.796862177424332, 'virginica'), (0.8795704491186667, 'virginica')]\n",
            "[(0.37621191266793286, 'virginica'), (0.3817573249780868, 'virginica'), (0.6747859387993344, 'virginica')]\n",
            "[(0.5289073647273247, 'setosa'), (0.7347551824590665, 'setosa'), (0.7643500146979169, 'setosa')]\n"
          ]
        }
      ]
    },
    {
      "cell_type": "markdown",
      "source": [
        "**Full Code**"
      ],
      "metadata": {
        "id": "EpcykXbstN4J"
      }
    },
    {
      "cell_type": "code",
      "source": [
        "import math\n",
        "import seaborn\n",
        "import numpy as np\n",
        "import pandas as pd\n",
        "\n",
        "class Element:\n",
        "    def __init__(\n",
        "        self, sepal_length, sepal_width, petal_length, petal_width, id=None, species=None\n",
        "    ) -> None:\n",
        "        self.sepal_length = sepal_length\n",
        "        self.sepal_width = sepal_width\n",
        "        self.petal_length = petal_length\n",
        "        self.petal_width = petal_width\n",
        "        # optional attributes\n",
        "        self.id = id\n",
        "        self.species = species\n",
        "\n",
        "    def __repr__(self):\n",
        "        species = self.species\n",
        "        if species is None:\n",
        "            species = \"Not known\"\n",
        "\n",
        "        id_ = self.id\n",
        "        if id_ is None:\n",
        "            id_ = \"No id\"\n",
        "\n",
        "        return (\n",
        "            f\"Element {id_} (SL={self.sepal_length}, \"\n",
        "            f\"SW={self.sepal_width}, PL={self.petal_length}, \"\n",
        "            f\"PW={self.petal_width}, species={self.species})\"\n",
        "        )\n",
        "    \n",
        "    def distance(self, other):\n",
        "        dist_sl = (self.sepal_length - other.sepal_length) ** 2\n",
        "        dist_sw = (self.sepal_width - other.sepal_width) ** 2\n",
        "        dist_pl = (self.petal_length - other.petal_length) ** 2\n",
        "        dist_pw = (self.petal_width - other.petal_width) ** 2\n",
        "        return math.sqrt(sum([dist_sl, dist_sw, dist_pl, dist_pw]))\n",
        "\n",
        "class KNN:\n",
        "    def __init__(self, X):\n",
        "        self.X = X\n",
        "    \n",
        "    def compute_knn(self, x_test, k):\n",
        "        distances = []\n",
        "        for x in self.X:\n",
        "            distances.append((x_test.distance(x), x.species))\n",
        "        return sorted(distances, key=lambda t: t[0])[:k]\n",
        "\n",
        "    \n",
        "df = sns.load_dataset(\"iris\")\n",
        "\n",
        "# select rows and columns by index\n",
        "# select all rows and all columns except the first and last one\n",
        "X = df.iloc[:, 1:-1].to_numpy()\n",
        "# select all rows and just the last column\n",
        "Y = df.iloc[:, -1].to_numpy()\n",
        "\n",
        "indexes = np.arange(0, X.shape[0])\n",
        "np.random.shuffle(indexes)\n",
        "X_train, Y_train = X[indexes[: int(0.7 * len(indexes))]], Y[indexes[: int(0.7 * len(indexes))]]\n",
        "X_test, Y_test = X[indexes[int(0.7 * len(indexes)) :]], Y[indexes[int(0.7 * len(indexes)) :]]\n",
        "\n",
        "# compute np mean and std using X_train\n",
        "# normalize here\n",
        "\n",
        "# collect the names of the columns\n",
        "attr_names = list(df.columns[:-1])\n",
        "\n",
        "# load data into objects\n",
        "X_train_objs = []\n",
        "for i, (x, y) in enumerate(zip(X_train, Y_train)):\n",
        "    params = {name: value for name, value in zip(attr_names, x)}\n",
        "    element = Element(**params, species=y, id=i)\n",
        "    X_train_objs.append(element)\n",
        "\n",
        "X_test_objs = []\n",
        "for i, x in enumerate(X_test):\n",
        "    params = {name: value for name, value in zip(attr_names, x)}\n",
        "    element = Element(**params, id=i)\n",
        "    X_test_objs.append(element)\n",
        "\n",
        "# normalize data\n",
        "for x in X_train_objs:\n",
        "    x.sepal_length = (x.sepal_length - SL_mean) / SL_std\n",
        "    x.sepal_width = (x.sepal_width - SW_mean) / SW_std\n",
        "    x.petal_length = (x.petal_length - PL_mean) / PL_std\n",
        "    x.petal_width = (x.petal_width - PW_mean) / PW_std\n",
        "\n",
        "for x in X_test_objs:\n",
        "    x.sepal_length = (x.sepal_length - SL_mean) / SL_std\n",
        "    x.sepal_width = (x.sepal_width - SW_mean) / SW_std\n",
        "    x.petal_length = (x.petal_length - PL_mean) / PL_std\n",
        "    x.petal_width = (x.petal_width - PW_mean) / PW_std\n",
        "\n",
        "knn = KNN(X_train_objs)\n",
        "preds = [knn.compute_knn(x, 3) for x in X_test_objs]\n",
        "\n",
        "print(preds[0])\n",
        "print(preds[6])\n",
        "print(preds[10])"
      ],
      "metadata": {
        "colab": {
          "base_uri": "https://localhost:8080/"
        },
        "id": "XV3IVuoppTNp",
        "outputId": "e7c00f66-e4ef-4557-b1c7-5fa0a462b9b5"
      },
      "execution_count": null,
      "outputs": [
        {
          "output_type": "stream",
          "name": "stdout",
          "text": [
            "[(0.3563179823677913, 'versicolor'), (0.43015031535592885, 'versicolor'), (0.4969308476931999, 'versicolor')]\n",
            "[(0.6714711836679153, 'setosa'), (0.6867958241781682, 'setosa'), (0.697253597312322, 'setosa')]\n",
            "[(0.46271056380990944, 'virginica'), (0.6356987007104837, 'virginica'), (0.7141194839506259, 'virginica')]\n"
          ]
        }
      ]
    },
    {
      "cell_type": "markdown",
      "source": [
        "**Snippets**"
      ],
      "metadata": {
        "id": "MOPkoXoCsJVe"
      }
    },
    {
      "cell_type": "code",
      "source": [
        "# loading data\n",
        "import pandas as pd\n",
        "\n",
        "# pass the name of the file\n",
        "df = pd.read_csv('iris.csv') # use header=None if you don't have a header for your csv file\n",
        "\n",
        "df.columns # gives you access to the column names (including a dummy for the index)\n",
        "print(df.iloc[:, 1]) # selects using numerical indexes\n",
        "print(df.loc[:, ['sepal_length']]) # selects using the names\n",
        "\n",
        "# what you usually want to do to move stuff to numpy\n",
        "X, Y = df[:, 1:-1].to_numpy(), df[:, -1].to_numpy()"
      ],
      "metadata": {
        "id": "kjjkoUHBrAyD"
      },
      "execution_count": null,
      "outputs": []
    },
    {
      "cell_type": "code",
      "source": [
        "# spliting data\n",
        "import numpy as np\n",
        "\n",
        "indexes = np.arange(0, X.shape[0])\n",
        "percent = 0.7\n",
        "partition = int(percent * len(indexes))\n",
        "X_train, X_test = X[indexes[:partition]], X[indexes[partition:]]"
      ],
      "metadata": {
        "id": "0uod0MhnsEfM"
      },
      "execution_count": null,
      "outputs": []
    },
    {
      "cell_type": "markdown",
      "source": [
        "Numpy tutorials:\n",
        "- https://www.w3schools.com/python/numpy/default.asp\n",
        "- https://cs231n.github.io/python-numpy-tutorial/#numpy\n",
        "- https://numpy.org/doc/stable/user/quickstart.html"
      ],
      "metadata": {
        "id": "MqAIIszOsc7P"
      }
    },
    {
      "cell_type": "markdown",
      "source": [
        "Exercise:\n",
        "- modify the full code so that we can compute the mean and std without needing to reassign stuff (use numpy to compute the mean and std and just normalize directly in the numpy data before assigning)\n",
        "- do a geral cleaning of the code and improve where you think it's needed\n",
        "- create another method for the KNN class that applies the self.compute_knn in all test data points and compute the accuracy of the predictions\n",
        "- test different values of k\n",
        "- re-write the whole code without looking. The idea is not to reproduce what is already here, but to solve the same problem in another way"
      ],
      "metadata": {
        "id": "VX7Rd0uktrYP"
      }
    }
  ]
}